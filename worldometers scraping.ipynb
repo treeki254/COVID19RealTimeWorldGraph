{
 "cells": [
  {
   "cell_type": "markdown",
   "metadata": {},
   "source": [
    "# worldometers table scraping"
   ]
  },
  {
   "cell_type": "markdown",
   "metadata": {},
   "source": [
    "## extracting text from html table"
   ]
  },
  {
   "cell_type": "code",
   "execution_count": 1,
   "metadata": {},
   "outputs": [],
   "source": [
    "import requests\n",
    "import urllib.request\n",
    "from bs4 import BeautifulSoup\n",
    "import pandas as pd\n",
    "import numpy as np\n",
    "import datetime\n",
    "from pprint import pprint\n",
    "\n",
    "fileDay = datetime.date.today().strftime('%m%d')\n",
    "\n",
    "df = None\n",
    "\n",
    "colList = []  \n",
    "country = []\n",
    "totCase = []\n",
    "newCase = []\n",
    "totDeath = []\n",
    "newDeath = []\n",
    "totRecov = []\n",
    "actCase = []\n",
    "serious = []\n",
    "totCasePer1M = []\n",
    "totDeathPer1M = [] # this column was added in 2020. 3. 25.\n",
    "# firstCase = [] # this column was added in 2020. 3. 28. # this column was removed in 2020. 4. 3.\n",
    "totTest = [] # this column was added in 2020. 4. 4.\n",
    "totTestPer1M = [] # this column was added in 2020. 4. 4.\n",
    "continent = [] # this column was added in 2020. 4 . 9.\n",
    "\n",
    "allList = [colList, country, totCase, newCase, totDeath, newDeath, totRecov, actCase, serious, totCasePer1M, totDeathPer1M, totTest, totTestPer1M, continent]\n",
    "\n",
    "def colClear():\n",
    "    for i in allList:\n",
    "        i.clear()\n",
    "\n",
    "def scrapingWorldometers(yda=False):\n",
    "    url = \"https://www.worldometers.info/coronavirus/\"\n",
    "    html = requests.get(url).text\n",
    "    soup = BeautifulSoup(html, 'html.parser')\n",
    "    \n",
    "    if yda:\n",
    "        table = soup.select_one('table#main_table_countries_yesterday')\n",
    "    else:\n",
    "        table = soup.select_one('table#main_table_countries_today')\n",
    "    #pprint(table)\n",
    "\n",
    "    columns = table.select('tr')\n",
    "    isCol = True\n",
    "    colClear()\n",
    "\n",
    "    for col in columns:\n",
    "        if isCol:\n",
    "            cols = col.select('th')\n",
    "            for c in cols:\n",
    "                colList.append(c.text)\n",
    "            isCol = False\n",
    "        else:\n",
    "            rows = col.select('td')\n",
    "            country.append(rows[0].text.strip())\n",
    "            totCase.append(rows[1].text.strip())\n",
    "            newCase.append(rows[2].text.strip())\n",
    "            totDeath.append(rows[3].text.strip())\n",
    "            newDeath.append(rows[4].text.strip())\n",
    "            totRecov.append(rows[5].text.strip())\n",
    "            actCase.append(rows[6].text.strip())\n",
    "            serious.append(rows[7].text.strip())\n",
    "            totCasePer1M.append(rows[8].text.strip())\n",
    "            totDeathPer1M.append(rows[9].text.strip())\n",
    "            #firstCase.append(rows[10].text.strip())\n",
    "            totTest.append(rows[10].text.strip())\n",
    "            totTestPer1M.append(rows[11].text.strip())\n",
    "            continent.append(rows[12].text.strip())\n",
    "    #print(colList)"
   ]
  },
  {
   "cell_type": "markdown",
   "metadata": {},
   "source": [
    "## making dataframe, json, csv"
   ]
  },
  {
   "cell_type": "code",
   "execution_count": 2,
   "metadata": {},
   "outputs": [],
   "source": [
    "def dfProcessing():\n",
    "    # 'Tot\\xa0Cases/1M pop' => 'Tot Cases/1M pop'\n",
    "    # 'Tot\\xa0Deaths/1M pop' => 'Tot Deaths/1M pop' => Deaths/1M pop(3. 30)\n",
    "    # 'Tests/\\n1M pop\\n' => 'Tests/1M pop'\n",
    "    colList[8] = 'Tot Cases/1M pop'\n",
    "    colList[9] = 'Deaths/1M pop'\n",
    "    colList[11] = 'Tests/1M pop'\n",
    "    \n",
    "    # Réunion, Curaçao => Reunion, Curacao \n",
    "    idx = country.index(\"Réunion\")\n",
    "    country[idx] = \"Reunion\"\n",
    "    \n",
    "    idx = country.index(\"Curaçao\")\n",
    "    country[idx] = \"Curacao\"\n",
    "    \n",
    "    # '\\nJan 20 ' => 'Jan 20'\n",
    "    #for day in firstCase:\n",
    "        #idx = firstCase.index(day)\n",
    "        #nday = day.strip()\n",
    "        #firstCase[idx] = nday\n",
    "    \n",
    "    df = pd.DataFrame(columns=colList)\n",
    "    df.iloc[:,0] = country\n",
    "    df.iloc[:,1] = totCase\n",
    "    df.iloc[:,2] = newCase\n",
    "    df.iloc[:,3] = totDeath\n",
    "    df.iloc[:,4] = newDeath\n",
    "    df.iloc[:,5] = totRecov\n",
    "    df.iloc[:,6] = actCase\n",
    "    df.iloc[:,7] = serious\n",
    "    df.iloc[:,8] = totCasePer1M\n",
    "    df.iloc[:,9] = totDeathPer1M\n",
    "    #df.iloc[:,10] = firstCase\n",
    "    df.iloc[:,10] = totTest\n",
    "    df.iloc[:,11] = totTestPer1M\n",
    "    df.iloc[:,12] = continent\n",
    "    \n",
    "    df = df.set_index('Country,Other')\n",
    "    \n",
    "    df = df.replace(',','', regex=True)\n",
    "    df = df.replace('', 0)\n",
    "    df = df.replace(' ', 0)\n",
    "    \n",
    "    # Europe recov / cases * UK case 2020. 4. 13. ~ 17.(continue)\n",
    "    df.loc[\"UK\", \"TotalRecovered\"] = round(int(df.loc[\"Europe\", \"TotalRecovered\"]) / int(df.loc[\"Europe\", \"TotalCases\"]) * int(df.loc[\"UK\", \"TotalCases\"]))\n",
    "\n",
    "    astypeDict = dict.fromkeys(df.columns, np.int)\n",
    "    astypeDict['Tot Cases/1M pop'] = np.float\n",
    "    astypeDict['Deaths/1M pop'] = np.float\n",
    "    astypeDict['Tests/1M pop'] = np.float\n",
    "    #astypeDict['Reported1st case'] = np.string_ # 1stcase => Reported1st case (3. 30)\n",
    "    astypeDict['Continent'] = np.string_\n",
    "\n",
    "    df.astype(astypeDict).dtypes\n",
    "    return df\n",
    "\n",
    "def toCSV(df, yda=False):\n",
    "    if yda:\n",
    "        csvFile = './covidDataset/' + fileDay + 'ydaCoronaWorld.csv'\n",
    "        df.to_csv(csvFile)\n",
    "        print(fileDay, \"yesterday csv complete\")\n",
    "    else:\n",
    "        csvFile = './covidDataset/' + fileDay + 'tdaCoronaWorld.csv'\n",
    "        df.to_csv(csvFile)\n",
    "        print(fileDay, \"today csv complete\")\n",
    "    \n",
    "def toJSON(df, yda=False, orient='table'):\n",
    "    if yda:\n",
    "        jsonFile = './covidDataset/' + fileDay + 'yda' + orient + 'CoronaWorld.json'\n",
    "        df.to_json(jsonFile, orient)\n",
    "        print(fileDay, \"yesterday json complete\")\n",
    "    else:\n",
    "        jsonFile = './covidDataset/' + fileDay + 'tda' + orient + 'CoronaWorld.json'\n",
    "        df.to_json(jsonFile, orient)\n",
    "        print(fileDay, \"today json complete\")"
   ]
  },
  {
   "cell_type": "markdown",
   "metadata": {},
   "source": [
    "## today files"
   ]
  },
  {
   "cell_type": "code",
   "execution_count": 3,
   "metadata": {},
   "outputs": [
    {
     "name": "stdout",
     "output_type": "stream",
     "text": [
      "0417 today csv complete\n",
      "0417 today json complete\n",
      "0417 today json complete\n"
     ]
    }
   ],
   "source": [
    "scrapingWorldometers()\n",
    "df = dfProcessing()\n",
    "toCSV(df)\n",
    "toJSON(df)\n",
    "toJSON(df, orient='records')\n",
    "#toJSON(df, orient='index') # 2020. 4. 10. Total row duplicated owing to regions\n",
    "#toJSON(df, orient='columns')"
   ]
  },
  {
   "cell_type": "markdown",
   "metadata": {},
   "source": [
    "## yesterday files"
   ]
  },
  {
   "cell_type": "code",
   "execution_count": 4,
   "metadata": {},
   "outputs": [
    {
     "name": "stdout",
     "output_type": "stream",
     "text": [
      "0417 yesterday csv complete\n",
      "0417 yesterday json complete\n",
      "0417 yesterday json complete\n"
     ]
    }
   ],
   "source": [
    "scrapingWorldometers(yda=True)\n",
    "df = dfProcessing()\n",
    "toCSV(df, yda=True)\n",
    "toJSON(df, yda=True)\n",
    "toJSON(df, yda=True, orient='records')\n",
    "#toJSON(df, yda=True, orient='index')\n",
    "#toJSON(df, yda=True, orient='columns')"
   ]
  },
  {
   "cell_type": "code",
   "execution_count": 5,
   "metadata": {},
   "outputs": [
    {
     "name": "stdout",
     "output_type": "stream",
     "text": [
      "['Country,Other', 'TotalCases', 'NewCases', 'TotalDeaths', 'NewDeaths', 'TotalRecovered', 'ActiveCases', 'Serious,Critical', 'Tot Cases/1M pop', 'Deaths/1M pop', 'TotalTests', 'Tests/1M pop', 'Continent']\n"
     ]
    }
   ],
   "source": [
    "#scrapingWorldometers()\n",
    "print(colList)"
   ]
  },
  {
   "cell_type": "code",
   "execution_count": null,
   "metadata": {},
   "outputs": [],
   "source": []
  }
 ],
 "metadata": {
  "kernelspec": {
   "display_name": "Python 3",
   "language": "python",
   "name": "python3"
  },
  "language_info": {
   "codemirror_mode": {
    "name": "ipython",
    "version": 3
   },
   "file_extension": ".py",
   "mimetype": "text/x-python",
   "name": "python",
   "nbconvert_exporter": "python",
   "pygments_lexer": "ipython3",
   "version": "3.7.6"
  }
 },
 "nbformat": 4,
 "nbformat_minor": 4
}
