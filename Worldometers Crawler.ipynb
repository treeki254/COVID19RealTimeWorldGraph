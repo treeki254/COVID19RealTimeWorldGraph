{
 "cells": [
  {
   "cell_type": "code",
   "execution_count": 1,
   "metadata": {},
   "outputs": [],
   "source": [
    "import requests\n",
    "from bs4 import BeautifulSoup\n",
    "import pandas as pd\n",
    "import numpy as np\n",
    "import datetime\n",
    "\n",
    "fileDay = datetime.date.today().strftime('%Y%m%d')\n",
    "fileYear = datetime.date.today().strftime('%Y')\n",
    "\n",
    "country = []\n",
    "totCase = []\n",
    "continent = [] # append continent index in 2020. 5. 22.\n",
    "\n",
    "nationLink = [] # www.worldometers.info/coronavirus/ + 'country/name'\n",
    "\n",
    "\n",
    "def scrapingWorldometers():\n",
    "    url = \"https://www.worldometers.info/coronavirus/\"\n",
    "    html = requests.get(url).text\n",
    "    soup = BeautifulSoup(html, 'html.parser')\n",
    "    colList = []\n",
    "    dateList = []\n",
    "    caseDataList = []\n",
    "    deathDataList = []\n",
    "    df = None\n",
    "    \n",
    "    #if yda:\n",
    "        #table = soup.select_one('table#main_table_countries_yesterday')\n",
    "    #else:    \n",
    "    table = soup.select_one('table#main_table_countries_today')\n",
    "    #pprint(table)\n",
    "\n",
    "    columns = table.select('tr')\n",
    "    isCol = True\n",
    "\n",
    "    for col in columns:\n",
    "        if isCol:\n",
    "            cols = col.select('th')\n",
    "            for c in cols:\n",
    "                colList.append(c.text)\n",
    "            isCol = False\n",
    "        else:\n",
    "            rows = col.select('td') # '#' [0] column was added, so that index changed in 5. 15.\n",
    "            cases = int(rows[2].text.strip().replace(',',''))\n",
    "            if (cases >= 1000) and rows[1].a: \n",
    "                country.append(rows[1].text.strip())\n",
    "                nationLink.append(rows[1].a[\"href\"])\n",
    "                totCase.append(cases)\n",
    "                continent.append(rows[15].text.strip()) # newRecov column was added, so that index changed in 5. 29. # newRecov was removed in 5. 30. this column was added again in 2020. 6. 2.\n",
    "            else:\n",
    "                continue\n",
    "                \n",
    "    # Réunion, Curaçao => Reunion, Curacao\n",
    "    if \"Réunion\" in country:\n",
    "        idx = country.index(\"Réunion\")\n",
    "        country[idx] = \"Reunion\"\n",
    "    \n",
    "    if \"Curaçao\" in country:\n",
    "        idx = country.index(\"Curaçao\")\n",
    "        country[idx] = \"Curacao\"\n",
    "\n",
    "            \n",
    "    for link in nationLink:\n",
    "        html = requests.get(url + link).text\n",
    "        soup = BeautifulSoup(html, 'html.parser')\n",
    "        jsList = soup.find_all('script', attrs={'type' : \"text/javascript\"})\n",
    "        for js in jsList:\n",
    "            if js.text.find(\"Highcharts\") != -1:\n",
    "                if js.text.find(\"'coronavirus-cases-linear'\") != -1:\n",
    "                    caseScript = js.text\n",
    "                    frontCut = caseScript[caseScript.find(\"categories:\"):]\n",
    "                    caseDaysStartIdx = frontCut.find(\"[\") + 1 # start from inside of []\n",
    "                    caseDaysEndIdx = frontCut.find(\"]\")\n",
    "                    caseDaysList = frontCut[caseDaysStartIdx:caseDaysEndIdx].split(\",\")\n",
    "                    \n",
    "                    startDate = datetime.datetime.strptime(caseDaysList[0].strip('\"') + ' 2020', \"%b %d %Y\")\n",
    "                    endDate = datetime.datetime.strptime(caseDaysList[-1].strip('\"') + ' ' + fileYear, \"%b %d %Y\")\n",
    "                    dateList = pd.date_range(startDate, endDate)\n",
    "                    \n",
    "                    frontCut = frontCut[frontCut.find(\"data:\"):]\n",
    "                    caseDataStartIdx = frontCut.find(\"[\") + 1 # start from inside of []\n",
    "                    caseDataEndIdx = frontCut.find(\"]\")\n",
    "                    caseDataList = frontCut[caseDataStartIdx:caseDataEndIdx].split(\",\")\n",
    "                    \n",
    "                elif js.text.find(\"coronavirus-deaths-linear\") != -1:\n",
    "                    deathScript = js.text\n",
    "                    frontCut = deathScript[deathScript.find(\"data:\"):]\n",
    "                    deathDataStartIdx = frontCut.find(\"[\") + 1 # start from inside of []\n",
    "                    deathDataEndIdx = frontCut.find(\"]\")\n",
    "                    deathDataList = frontCut[deathDataStartIdx:deathDataEndIdx].split(\",\")\n",
    "        \n",
    "        nationDict = {\"Country\": country[nationLink.index(link)], \"Date\":dateList, \"Continent\": continent[nationLink.index(link)], \"TotalCases\":caseDataList, \"TotalDeaths\":deathDataList}\n",
    "        dfByNation = pd.DataFrame(nationDict)\n",
    "        df = pd.concat([df, dfByNation])\n",
    "        \n",
    "    df[\"Date\"] = df[\"Date\"].astype(str) # datetime64[ns] -> str\n",
    "    df = df.set_index([\"Country\", \"Date\", \"Continent\"]) # append continent index in 2020. 5. 22.\n",
    "    \n",
    "    formerdf = pd.read_csv(\"./covidDataset/formerCoronaWorld.csv\") # former data was added in 2020. 6. 6.\n",
    "    formerdf = formerdf.set_index([\"Country\", \"Date\" ,\"Continent\"]) # multi index\n",
    "    \n",
    "    fusiondf = pd.concat([df, formerdf])\n",
    "    fusiondf.sort_index(inplace=True)\n",
    "    return fusiondf"
   ]
  },
  {
   "cell_type": "code",
   "execution_count": 2,
   "metadata": {},
   "outputs": [],
   "source": [
    "def toCSV(df):\n",
    "    csvFile = './covidDataset/' + fileDay + 'CoronaWorld.csv' # set directory properly\n",
    "    df.to_csv(csvFile)\n",
    "    print(fileDay, \"today csv complete\")\n",
    "    \n",
    "def toJSON(df, orient='split'):\n",
    "    jsonFile = './covidDataset/' + fileDay + 'CoronaWorld.json'\n",
    "    df.to_json(jsonFile, orient)\n",
    "    print(fileDay, \"today json complete\")"
   ]
  },
  {
   "cell_type": "code",
   "execution_count": 3,
   "metadata": {
    "scrolled": true
   },
   "outputs": [
    {
     "name": "stdout",
     "output_type": "stream",
     "text": [
      "                                 TotalCases TotalDeaths\n",
      "Country     Date       Continent                       \n",
      "Afghanistan 2020-02-15 Asia               0           0\n",
      "            2020-02-16 Asia               0           0\n",
      "            2020-02-17 Asia               0           0\n",
      "            2020-02-18 Asia               0           0\n",
      "            2020-02-19 Asia               0           0\n",
      "...                                     ...         ...\n",
      "Zambia      2020-06-01 Africa          1089           7\n",
      "            2020-06-02 Africa          1089           7\n",
      "            2020-06-03 Africa          1089           7\n",
      "            2020-06-04 Africa          1089           7\n",
      "            2020-06-05 Africa          1089           7\n",
      "\n",
      "[13840 rows x 2 columns]\n"
     ]
    }
   ],
   "source": [
    "covidDataFrame = scrapingWorldometers()\n",
    "print(covidDataFrame) # only china start from 2020-01-22"
   ]
  },
  {
   "cell_type": "code",
   "execution_count": 4,
   "metadata": {},
   "outputs": [
    {
     "name": "stdout",
     "output_type": "stream",
     "text": [
      "20200606 today csv complete\n",
      "20200606 today json complete\n"
     ]
    }
   ],
   "source": [
    "toCSV(covidDataFrame)\n",
    "toJSON(covidDataFrame)"
   ]
  }
 ],
 "metadata": {
  "kernelspec": {
   "display_name": "Python 3",
   "language": "python",
   "name": "python3"
  },
  "language_info": {
   "codemirror_mode": {
    "name": "ipython",
    "version": 3
   },
   "file_extension": ".py",
   "mimetype": "text/x-python",
   "name": "python",
   "nbconvert_exporter": "python",
   "pygments_lexer": "ipython3",
   "version": "3.7.6"
  }
 },
 "nbformat": 4,
 "nbformat_minor": 4
}
